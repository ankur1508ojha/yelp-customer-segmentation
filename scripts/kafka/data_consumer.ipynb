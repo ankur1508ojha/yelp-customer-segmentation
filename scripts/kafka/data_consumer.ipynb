{
 "cells": [
  {
   "cell_type": "code",
   "execution_count": 5,
   "outputs": [],
   "source": [
    "import os\n",
    "\n",
    "from pyspark.sql import SparkSession\n",
    "from pyspark.sql.types import StructType, StructField, StringType, LongType, DoubleType"
   ],
   "metadata": {
    "collapsed": false,
    "ExecuteTime": {
     "end_time": "2023-11-10T06:29:17.658408Z",
     "start_time": "2023-11-10T06:29:17.650301Z"
    }
   },
   "id": "e7941462ee1da6d3"
  },
  {
   "cell_type": "code",
   "execution_count": 2,
   "id": "initial_id",
   "metadata": {
    "collapsed": true,
    "ExecuteTime": {
     "end_time": "2023-11-10T03:39:56.993718Z",
     "start_time": "2023-11-10T03:39:53.488592Z"
    }
   },
   "outputs": [
    {
     "name": "stdout",
     "output_type": "stream",
     "text": [
      "spark is not up yet\n"
     ]
    },
    {
     "name": "stderr",
     "output_type": "stream",
     "text": [
      "Warning: Ignoring non-Spark config property: sspark.default.parallelism\n",
      "23/11/09 19:39:54 WARN Utils: Your hostname, mac.local resolves to a loopback address: 127.0.0.1; using 10.251.181.122 instead (on interface en0)\n",
      "23/11/09 19:39:54 WARN Utils: Set SPARK_LOCAL_IP if you need to bind to another address\n"
     ]
    },
    {
     "name": "stdout",
     "output_type": "stream",
     "text": [
      ":: loading settings :: url = jar:file:/opt/anaconda3/lib/python3.9/site-packages/pyspark/jars/ivy-2.5.1.jar!/org/apache/ivy/core/settings/ivysettings.xml\n"
     ]
    },
    {
     "name": "stderr",
     "output_type": "stream",
     "text": [
      "Ivy Default Cache set to: /Users/hims/.ivy2/cache\n",
      "The jars for the packages stored in: /Users/hims/.ivy2/jars\n",
      "org.apache.spark#spark-streaming-kafka-0-10_2.12 added as a dependency\n",
      "org.apache.spark#spark-sql-kafka-0-10_2.12 added as a dependency\n",
      ":: resolving dependencies :: org.apache.spark#spark-submit-parent-65e28887-0709-4012-bcf9-7984bd12a37b;1.0\n",
      "\tconfs: [default]\n",
      "\tfound org.apache.spark#spark-streaming-kafka-0-10_2.12;3.5.0 in central\n",
      "\tfound org.apache.spark#spark-token-provider-kafka-0-10_2.12;3.5.0 in central\n",
      "\tfound org.apache.kafka#kafka-clients;3.4.1 in central\n",
      "\tfound org.lz4#lz4-java;1.8.0 in central\n",
      "\tfound org.xerial.snappy#snappy-java;1.1.10.3 in central\n",
      "\tfound org.slf4j#slf4j-api;2.0.7 in central\n",
      "\tfound org.apache.hadoop#hadoop-client-runtime;3.3.4 in central\n",
      "\tfound org.apache.hadoop#hadoop-client-api;3.3.4 in central\n",
      "\tfound commons-logging#commons-logging;1.1.3 in central\n",
      "\tfound com.google.code.findbugs#jsr305;3.0.0 in central\n",
      "\tfound org.apache.spark#spark-sql-kafka-0-10_2.12;3.5.0 in central\n",
      "\tfound org.apache.commons#commons-pool2;2.11.1 in central\n",
      ":: resolution report :: resolve 324ms :: artifacts dl 7ms\n",
      "\t:: modules in use:\n",
      "\tcom.google.code.findbugs#jsr305;3.0.0 from central in [default]\n",
      "\tcommons-logging#commons-logging;1.1.3 from central in [default]\n",
      "\torg.apache.commons#commons-pool2;2.11.1 from central in [default]\n",
      "\torg.apache.hadoop#hadoop-client-api;3.3.4 from central in [default]\n",
      "\torg.apache.hadoop#hadoop-client-runtime;3.3.4 from central in [default]\n",
      "\torg.apache.kafka#kafka-clients;3.4.1 from central in [default]\n",
      "\torg.apache.spark#spark-sql-kafka-0-10_2.12;3.5.0 from central in [default]\n",
      "\torg.apache.spark#spark-streaming-kafka-0-10_2.12;3.5.0 from central in [default]\n",
      "\torg.apache.spark#spark-token-provider-kafka-0-10_2.12;3.5.0 from central in [default]\n",
      "\torg.lz4#lz4-java;1.8.0 from central in [default]\n",
      "\torg.slf4j#slf4j-api;2.0.7 from central in [default]\n",
      "\torg.xerial.snappy#snappy-java;1.1.10.3 from central in [default]\n",
      "\t---------------------------------------------------------------------\n",
      "\t|                  |            modules            ||   artifacts   |\n",
      "\t|       conf       | number| search|dwnlded|evicted|| number|dwnlded|\n",
      "\t---------------------------------------------------------------------\n",
      "\t|      default     |   12  |   0   |   0   |   0   ||   12  |   0   |\n",
      "\t---------------------------------------------------------------------\n",
      ":: retrieving :: org.apache.spark#spark-submit-parent-65e28887-0709-4012-bcf9-7984bd12a37b\n",
      "\tconfs: [default]\n",
      "\t0 artifacts copied, 12 already retrieved (0kB/5ms)\n",
      "23/11/09 19:39:55 WARN NativeCodeLoader: Unable to load native-hadoop library for your platform... using builtin-java classes where applicable\n",
      "23/11/09 19:39:55 WARN DependencyUtils: Local jar /opt/anaconda3/lib/python3.9/site-packages/pyspark/jars/commons-pool2-2.8.0.jar does not exist, skipping.\n",
      "23/11/09 19:39:55 INFO SparkContext: Running Spark version 3.5.0\n",
      "23/11/09 19:39:55 INFO SparkContext: OS info Mac OS X, 14.0, aarch64\n",
      "23/11/09 19:39:55 INFO SparkContext: Java version 1.8.0_381\n",
      "23/11/09 19:39:55 INFO ResourceUtils: ==============================================================\n",
      "23/11/09 19:39:55 INFO ResourceUtils: No custom resources configured for spark.driver.\n",
      "23/11/09 19:39:55 INFO ResourceUtils: ==============================================================\n",
      "23/11/09 19:39:55 INFO SparkContext: Submitted application: Read Kafka\n",
      "23/11/09 19:39:55 INFO ResourceProfile: Default ResourceProfile created, executor resources: Map(cores -> name: cores, amount: 1, script: , vendor: , memory -> name: memory, amount: 1024, script: , vendor: , offHeap -> name: offHeap, amount: 0, script: , vendor: ), task resources: Map(cpus -> name: cpus, amount: 1.0)\n",
      "23/11/09 19:39:55 INFO ResourceProfile: Limiting resource is cpu\n",
      "23/11/09 19:39:55 INFO ResourceProfileManager: Added ResourceProfile id: 0\n",
      "23/11/09 19:39:55 INFO SecurityManager: Changing view acls to: hims\n",
      "23/11/09 19:39:55 INFO SecurityManager: Changing modify acls to: hims\n",
      "23/11/09 19:39:55 INFO SecurityManager: Changing view acls groups to: \n",
      "23/11/09 19:39:55 INFO SecurityManager: Changing modify acls groups to: \n",
      "23/11/09 19:39:55 INFO SecurityManager: SecurityManager: authentication disabled; ui acls disabled; users with view permissions: hims; groups with view permissions: EMPTY; users with modify permissions: hims; groups with modify permissions: EMPTY\n",
      "23/11/09 19:39:55 INFO Utils: Successfully started service 'sparkDriver' on port 49346.\n",
      "23/11/09 19:39:55 INFO SparkEnv: Registering MapOutputTracker\n",
      "23/11/09 19:39:55 INFO SparkEnv: Registering BlockManagerMaster\n",
      "23/11/09 19:39:55 INFO BlockManagerMasterEndpoint: Using org.apache.spark.storage.DefaultTopologyMapper for getting topology information\n",
      "23/11/09 19:39:55 INFO BlockManagerMasterEndpoint: BlockManagerMasterEndpoint up\n",
      "23/11/09 19:39:55 INFO SparkEnv: Registering BlockManagerMasterHeartbeat\n",
      "23/11/09 19:39:56 INFO DiskBlockManager: Created local directory at /private/var/folders/l2/k_0hhyfd76b__51kf1m_vk_c0000gn/T/blockmgr-1ba7fcdd-8f06-4638-8490-fffd1083ca4f\n",
      "23/11/09 19:39:56 INFO MemoryStore: MemoryStore started with capacity 366.3 MiB\n",
      "23/11/09 19:39:56 INFO SparkEnv: Registering OutputCommitCoordinator\n",
      "23/11/09 19:39:56 INFO JettyUtils: Start Jetty 0.0.0.0:4040 for SparkUI\n",
      "23/11/09 19:39:56 INFO Utils: Successfully started service 'SparkUI' on port 4040.\n",
      "23/11/09 19:39:56 INFO SparkContext: Added JAR /opt/anaconda3/lib/python3.9/site-packages/pyspark/jars/spark-sql-kafka-0-10_2.12-3.5.0.jar at spark://10.251.181.122:49346/jars/spark-sql-kafka-0-10_2.12-3.5.0.jar with timestamp 1699587595643\n",
      "23/11/09 19:39:56 INFO SparkContext: Added JAR /opt/anaconda3/lib/python3.9/site-packages/pyspark/jars/spark-streaming-kafka-0-10_2.12-3.5.0.jar at spark://10.251.181.122:49346/jars/spark-streaming-kafka-0-10_2.12-3.5.0.jar with timestamp 1699587595643\n",
      "23/11/09 19:39:56 INFO SparkContext: Added JAR /opt/anaconda3/lib/python3.9/site-packages/pyspark/jars/kafka-clients-3.5.0.jar at spark://10.251.181.122:49346/jars/kafka-clients-3.5.0.jar with timestamp 1699587595643\n",
      "23/11/09 19:39:56 INFO SparkContext: Added JAR /opt/anaconda3/lib/python3.9/site-packages/pyspark/jars/spark-token-provider-kafka-0-10_2.12-3.5.0.jar at spark://10.251.181.122:49346/jars/spark-token-provider-kafka-0-10_2.12-3.5.0.jar with timestamp 1699587595643\n",
      "23/11/09 19:39:56 ERROR SparkContext: Failed to add /opt/anaconda3/lib/python3.9/site-packages/pyspark/jars/commons-pool2-2.8.0.jar to Spark environment\n",
      "java.io.FileNotFoundException: Jar /opt/anaconda3/lib/python3.9/site-packages/pyspark/jars/commons-pool2-2.8.0.jar not found\n",
      "\tat org.apache.spark.SparkContext.addLocalJarFile$1(SparkContext.scala:2100)\n",
      "\tat org.apache.spark.SparkContext.addJar(SparkContext.scala:2156)\n",
      "\tat org.apache.spark.SparkContext.$anonfun$new$15(SparkContext.scala:526)\n",
      "\tat org.apache.spark.SparkContext.$anonfun$new$15$adapted(SparkContext.scala:526)\n",
      "\tat scala.collection.mutable.ResizableArray.foreach(ResizableArray.scala:62)\n",
      "\tat scala.collection.mutable.ResizableArray.foreach$(ResizableArray.scala:55)\n",
      "\tat scala.collection.mutable.ArrayBuffer.foreach(ArrayBuffer.scala:49)\n",
      "\tat org.apache.spark.SparkContext.<init>(SparkContext.scala:526)\n",
      "\tat org.apache.spark.api.java.JavaSparkContext.<init>(JavaSparkContext.scala:58)\n",
      "\tat sun.reflect.NativeConstructorAccessorImpl.newInstance0(Native Method)\n",
      "\tat sun.reflect.NativeConstructorAccessorImpl.newInstance(NativeConstructorAccessorImpl.java:62)\n",
      "\tat sun.reflect.DelegatingConstructorAccessorImpl.newInstance(DelegatingConstructorAccessorImpl.java:45)\n",
      "\tat java.lang.reflect.Constructor.newInstance(Constructor.java:423)\n",
      "\tat py4j.reflection.MethodInvoker.invoke(MethodInvoker.java:247)\n",
      "\tat py4j.reflection.ReflectionEngine.invoke(ReflectionEngine.java:374)\n",
      "\tat py4j.Gateway.invoke(Gateway.java:238)\n",
      "\tat py4j.commands.ConstructorCommand.invokeConstructor(ConstructorCommand.java:80)\n",
      "\tat py4j.commands.ConstructorCommand.execute(ConstructorCommand.java:69)\n",
      "\tat py4j.ClientServerConnection.waitForCommands(ClientServerConnection.java:182)\n",
      "\tat py4j.ClientServerConnection.run(ClientServerConnection.java:106)\n",
      "\tat java.lang.Thread.run(Thread.java:750)\n",
      "23/11/09 19:39:56 INFO SparkContext: Added file file:///Users/hims/.ivy2/jars/org.apache.spark_spark-streaming-kafka-0-10_2.12-3.5.0.jar at file:///Users/hims/.ivy2/jars/org.apache.spark_spark-streaming-kafka-0-10_2.12-3.5.0.jar with timestamp 1699587595643\n",
      "23/11/09 19:39:56 INFO Utils: Copying /Users/hims/.ivy2/jars/org.apache.spark_spark-streaming-kafka-0-10_2.12-3.5.0.jar to /private/var/folders/l2/k_0hhyfd76b__51kf1m_vk_c0000gn/T/spark-c66057b8-3996-4c03-85c8-3b0413a15b9a/userFiles-52144c6f-84cd-4690-8397-c3133d954415/org.apache.spark_spark-streaming-kafka-0-10_2.12-3.5.0.jar\n",
      "23/11/09 19:39:56 INFO SparkContext: Added file file:///Users/hims/.ivy2/jars/org.apache.spark_spark-sql-kafka-0-10_2.12-3.5.0.jar at file:///Users/hims/.ivy2/jars/org.apache.spark_spark-sql-kafka-0-10_2.12-3.5.0.jar with timestamp 1699587595643\n",
      "23/11/09 19:39:56 INFO Utils: Copying /Users/hims/.ivy2/jars/org.apache.spark_spark-sql-kafka-0-10_2.12-3.5.0.jar to /private/var/folders/l2/k_0hhyfd76b__51kf1m_vk_c0000gn/T/spark-c66057b8-3996-4c03-85c8-3b0413a15b9a/userFiles-52144c6f-84cd-4690-8397-c3133d954415/org.apache.spark_spark-sql-kafka-0-10_2.12-3.5.0.jar\n",
      "23/11/09 19:39:56 INFO SparkContext: Added file file:///Users/hims/.ivy2/jars/org.apache.spark_spark-token-provider-kafka-0-10_2.12-3.5.0.jar at file:///Users/hims/.ivy2/jars/org.apache.spark_spark-token-provider-kafka-0-10_2.12-3.5.0.jar with timestamp 1699587595643\n",
      "23/11/09 19:39:56 INFO Utils: Copying /Users/hims/.ivy2/jars/org.apache.spark_spark-token-provider-kafka-0-10_2.12-3.5.0.jar to /private/var/folders/l2/k_0hhyfd76b__51kf1m_vk_c0000gn/T/spark-c66057b8-3996-4c03-85c8-3b0413a15b9a/userFiles-52144c6f-84cd-4690-8397-c3133d954415/org.apache.spark_spark-token-provider-kafka-0-10_2.12-3.5.0.jar\n",
      "23/11/09 19:39:56 INFO SparkContext: Added file file:///Users/hims/.ivy2/jars/org.apache.kafka_kafka-clients-3.4.1.jar at file:///Users/hims/.ivy2/jars/org.apache.kafka_kafka-clients-3.4.1.jar with timestamp 1699587595643\n",
      "23/11/09 19:39:56 INFO Utils: Copying /Users/hims/.ivy2/jars/org.apache.kafka_kafka-clients-3.4.1.jar to /private/var/folders/l2/k_0hhyfd76b__51kf1m_vk_c0000gn/T/spark-c66057b8-3996-4c03-85c8-3b0413a15b9a/userFiles-52144c6f-84cd-4690-8397-c3133d954415/org.apache.kafka_kafka-clients-3.4.1.jar\n",
      "23/11/09 19:39:56 INFO SparkContext: Added file file:///Users/hims/.ivy2/jars/org.apache.hadoop_hadoop-client-runtime-3.3.4.jar at file:///Users/hims/.ivy2/jars/org.apache.hadoop_hadoop-client-runtime-3.3.4.jar with timestamp 1699587595643\n",
      "23/11/09 19:39:56 INFO Utils: Copying /Users/hims/.ivy2/jars/org.apache.hadoop_hadoop-client-runtime-3.3.4.jar to /private/var/folders/l2/k_0hhyfd76b__51kf1m_vk_c0000gn/T/spark-c66057b8-3996-4c03-85c8-3b0413a15b9a/userFiles-52144c6f-84cd-4690-8397-c3133d954415/org.apache.hadoop_hadoop-client-runtime-3.3.4.jar\n",
      "23/11/09 19:39:56 INFO SparkContext: Added file file:///Users/hims/.ivy2/jars/org.lz4_lz4-java-1.8.0.jar at file:///Users/hims/.ivy2/jars/org.lz4_lz4-java-1.8.0.jar with timestamp 1699587595643\n",
      "23/11/09 19:39:56 INFO Utils: Copying /Users/hims/.ivy2/jars/org.lz4_lz4-java-1.8.0.jar to /private/var/folders/l2/k_0hhyfd76b__51kf1m_vk_c0000gn/T/spark-c66057b8-3996-4c03-85c8-3b0413a15b9a/userFiles-52144c6f-84cd-4690-8397-c3133d954415/org.lz4_lz4-java-1.8.0.jar\n",
      "23/11/09 19:39:56 INFO SparkContext: Added file file:///Users/hims/.ivy2/jars/org.xerial.snappy_snappy-java-1.1.10.3.jar at file:///Users/hims/.ivy2/jars/org.xerial.snappy_snappy-java-1.1.10.3.jar with timestamp 1699587595643\n",
      "23/11/09 19:39:56 INFO Utils: Copying /Users/hims/.ivy2/jars/org.xerial.snappy_snappy-java-1.1.10.3.jar to /private/var/folders/l2/k_0hhyfd76b__51kf1m_vk_c0000gn/T/spark-c66057b8-3996-4c03-85c8-3b0413a15b9a/userFiles-52144c6f-84cd-4690-8397-c3133d954415/org.xerial.snappy_snappy-java-1.1.10.3.jar\n",
      "23/11/09 19:39:56 INFO SparkContext: Added file file:///Users/hims/.ivy2/jars/org.slf4j_slf4j-api-2.0.7.jar at file:///Users/hims/.ivy2/jars/org.slf4j_slf4j-api-2.0.7.jar with timestamp 1699587595643\n",
      "23/11/09 19:39:56 INFO Utils: Copying /Users/hims/.ivy2/jars/org.slf4j_slf4j-api-2.0.7.jar to /private/var/folders/l2/k_0hhyfd76b__51kf1m_vk_c0000gn/T/spark-c66057b8-3996-4c03-85c8-3b0413a15b9a/userFiles-52144c6f-84cd-4690-8397-c3133d954415/org.slf4j_slf4j-api-2.0.7.jar\n",
      "23/11/09 19:39:56 INFO SparkContext: Added file file:///Users/hims/.ivy2/jars/org.apache.hadoop_hadoop-client-api-3.3.4.jar at file:///Users/hims/.ivy2/jars/org.apache.hadoop_hadoop-client-api-3.3.4.jar with timestamp 1699587595643\n",
      "23/11/09 19:39:56 INFO Utils: Copying /Users/hims/.ivy2/jars/org.apache.hadoop_hadoop-client-api-3.3.4.jar to /private/var/folders/l2/k_0hhyfd76b__51kf1m_vk_c0000gn/T/spark-c66057b8-3996-4c03-85c8-3b0413a15b9a/userFiles-52144c6f-84cd-4690-8397-c3133d954415/org.apache.hadoop_hadoop-client-api-3.3.4.jar\n",
      "23/11/09 19:39:56 INFO SparkContext: Added file file:///Users/hims/.ivy2/jars/commons-logging_commons-logging-1.1.3.jar at file:///Users/hims/.ivy2/jars/commons-logging_commons-logging-1.1.3.jar with timestamp 1699587595643\n",
      "23/11/09 19:39:56 INFO Utils: Copying /Users/hims/.ivy2/jars/commons-logging_commons-logging-1.1.3.jar to /private/var/folders/l2/k_0hhyfd76b__51kf1m_vk_c0000gn/T/spark-c66057b8-3996-4c03-85c8-3b0413a15b9a/userFiles-52144c6f-84cd-4690-8397-c3133d954415/commons-logging_commons-logging-1.1.3.jar\n",
      "23/11/09 19:39:56 INFO SparkContext: Added file file:///Users/hims/.ivy2/jars/com.google.code.findbugs_jsr305-3.0.0.jar at file:///Users/hims/.ivy2/jars/com.google.code.findbugs_jsr305-3.0.0.jar with timestamp 1699587595643\n",
      "23/11/09 19:39:56 INFO Utils: Copying /Users/hims/.ivy2/jars/com.google.code.findbugs_jsr305-3.0.0.jar to /private/var/folders/l2/k_0hhyfd76b__51kf1m_vk_c0000gn/T/spark-c66057b8-3996-4c03-85c8-3b0413a15b9a/userFiles-52144c6f-84cd-4690-8397-c3133d954415/com.google.code.findbugs_jsr305-3.0.0.jar\n",
      "23/11/09 19:39:56 INFO SparkContext: Added file file:///Users/hims/.ivy2/jars/org.apache.commons_commons-pool2-2.11.1.jar at file:///Users/hims/.ivy2/jars/org.apache.commons_commons-pool2-2.11.1.jar with timestamp 1699587595643\n",
      "23/11/09 19:39:56 INFO Utils: Copying /Users/hims/.ivy2/jars/org.apache.commons_commons-pool2-2.11.1.jar to /private/var/folders/l2/k_0hhyfd76b__51kf1m_vk_c0000gn/T/spark-c66057b8-3996-4c03-85c8-3b0413a15b9a/userFiles-52144c6f-84cd-4690-8397-c3133d954415/org.apache.commons_commons-pool2-2.11.1.jar\n",
      "23/11/09 19:39:56 INFO Executor: Starting executor ID driver on host 10.251.181.122\n",
      "23/11/09 19:39:56 INFO Executor: OS info Mac OS X, 14.0, aarch64\n",
      "23/11/09 19:39:56 INFO Executor: Java version 1.8.0_381\n",
      "23/11/09 19:39:56 INFO Executor: Starting executor with user classpath (userClassPathFirst = false): ''\n",
      "23/11/09 19:39:56 INFO Executor: Created or updated repl class loader org.apache.spark.util.MutableURLClassLoader@180cbfbb for default.\n",
      "23/11/09 19:39:56 INFO Executor: Fetching file:///Users/hims/.ivy2/jars/org.apache.hadoop_hadoop-client-runtime-3.3.4.jar with timestamp 1699587595643\n",
      "23/11/09 19:39:56 INFO Utils: /Users/hims/.ivy2/jars/org.apache.hadoop_hadoop-client-runtime-3.3.4.jar has been previously copied to /private/var/folders/l2/k_0hhyfd76b__51kf1m_vk_c0000gn/T/spark-c66057b8-3996-4c03-85c8-3b0413a15b9a/userFiles-52144c6f-84cd-4690-8397-c3133d954415/org.apache.hadoop_hadoop-client-runtime-3.3.4.jar\n",
      "23/11/09 19:39:56 INFO Executor: Fetching file:///Users/hims/.ivy2/jars/com.google.code.findbugs_jsr305-3.0.0.jar with timestamp 1699587595643\n",
      "23/11/09 19:39:56 INFO Utils: /Users/hims/.ivy2/jars/com.google.code.findbugs_jsr305-3.0.0.jar has been previously copied to /private/var/folders/l2/k_0hhyfd76b__51kf1m_vk_c0000gn/T/spark-c66057b8-3996-4c03-85c8-3b0413a15b9a/userFiles-52144c6f-84cd-4690-8397-c3133d954415/com.google.code.findbugs_jsr305-3.0.0.jar\n",
      "23/11/09 19:39:56 INFO Executor: Fetching file:///Users/hims/.ivy2/jars/org.lz4_lz4-java-1.8.0.jar with timestamp 1699587595643\n",
      "23/11/09 19:39:56 INFO Utils: /Users/hims/.ivy2/jars/org.lz4_lz4-java-1.8.0.jar has been previously copied to /private/var/folders/l2/k_0hhyfd76b__51kf1m_vk_c0000gn/T/spark-c66057b8-3996-4c03-85c8-3b0413a15b9a/userFiles-52144c6f-84cd-4690-8397-c3133d954415/org.lz4_lz4-java-1.8.0.jar\n",
      "23/11/09 19:39:56 INFO Executor: Fetching file:///Users/hims/.ivy2/jars/org.xerial.snappy_snappy-java-1.1.10.3.jar with timestamp 1699587595643\n",
      "23/11/09 19:39:56 INFO Utils: /Users/hims/.ivy2/jars/org.xerial.snappy_snappy-java-1.1.10.3.jar has been previously copied to /private/var/folders/l2/k_0hhyfd76b__51kf1m_vk_c0000gn/T/spark-c66057b8-3996-4c03-85c8-3b0413a15b9a/userFiles-52144c6f-84cd-4690-8397-c3133d954415/org.xerial.snappy_snappy-java-1.1.10.3.jar\n",
      "23/11/09 19:39:56 INFO Executor: Fetching file:///Users/hims/.ivy2/jars/org.apache.hadoop_hadoop-client-api-3.3.4.jar with timestamp 1699587595643\n",
      "23/11/09 19:39:56 INFO Utils: /Users/hims/.ivy2/jars/org.apache.hadoop_hadoop-client-api-3.3.4.jar has been previously copied to /private/var/folders/l2/k_0hhyfd76b__51kf1m_vk_c0000gn/T/spark-c66057b8-3996-4c03-85c8-3b0413a15b9a/userFiles-52144c6f-84cd-4690-8397-c3133d954415/org.apache.hadoop_hadoop-client-api-3.3.4.jar\n",
      "23/11/09 19:39:56 INFO Executor: Fetching file:///Users/hims/.ivy2/jars/org.apache.spark_spark-sql-kafka-0-10_2.12-3.5.0.jar with timestamp 1699587595643\n",
      "23/11/09 19:39:56 INFO Utils: /Users/hims/.ivy2/jars/org.apache.spark_spark-sql-kafka-0-10_2.12-3.5.0.jar has been previously copied to /private/var/folders/l2/k_0hhyfd76b__51kf1m_vk_c0000gn/T/spark-c66057b8-3996-4c03-85c8-3b0413a15b9a/userFiles-52144c6f-84cd-4690-8397-c3133d954415/org.apache.spark_spark-sql-kafka-0-10_2.12-3.5.0.jar\n",
      "23/11/09 19:39:56 INFO Executor: Fetching file:///Users/hims/.ivy2/jars/org.apache.spark_spark-token-provider-kafka-0-10_2.12-3.5.0.jar with timestamp 1699587595643\n",
      "23/11/09 19:39:56 INFO Utils: /Users/hims/.ivy2/jars/org.apache.spark_spark-token-provider-kafka-0-10_2.12-3.5.0.jar has been previously copied to /private/var/folders/l2/k_0hhyfd76b__51kf1m_vk_c0000gn/T/spark-c66057b8-3996-4c03-85c8-3b0413a15b9a/userFiles-52144c6f-84cd-4690-8397-c3133d954415/org.apache.spark_spark-token-provider-kafka-0-10_2.12-3.5.0.jar\n",
      "23/11/09 19:39:56 INFO Executor: Fetching file:///Users/hims/.ivy2/jars/org.apache.commons_commons-pool2-2.11.1.jar with timestamp 1699587595643\n",
      "23/11/09 19:39:56 INFO Utils: /Users/hims/.ivy2/jars/org.apache.commons_commons-pool2-2.11.1.jar has been previously copied to /private/var/folders/l2/k_0hhyfd76b__51kf1m_vk_c0000gn/T/spark-c66057b8-3996-4c03-85c8-3b0413a15b9a/userFiles-52144c6f-84cd-4690-8397-c3133d954415/org.apache.commons_commons-pool2-2.11.1.jar\n",
      "23/11/09 19:39:56 INFO Executor: Fetching file:///Users/hims/.ivy2/jars/org.apache.kafka_kafka-clients-3.4.1.jar with timestamp 1699587595643\n",
      "23/11/09 19:39:56 INFO Utils: /Users/hims/.ivy2/jars/org.apache.kafka_kafka-clients-3.4.1.jar has been previously copied to /private/var/folders/l2/k_0hhyfd76b__51kf1m_vk_c0000gn/T/spark-c66057b8-3996-4c03-85c8-3b0413a15b9a/userFiles-52144c6f-84cd-4690-8397-c3133d954415/org.apache.kafka_kafka-clients-3.4.1.jar\n",
      "23/11/09 19:39:56 INFO Executor: Fetching file:///Users/hims/.ivy2/jars/org.slf4j_slf4j-api-2.0.7.jar with timestamp 1699587595643\n",
      "23/11/09 19:39:56 INFO Utils: /Users/hims/.ivy2/jars/org.slf4j_slf4j-api-2.0.7.jar has been previously copied to /private/var/folders/l2/k_0hhyfd76b__51kf1m_vk_c0000gn/T/spark-c66057b8-3996-4c03-85c8-3b0413a15b9a/userFiles-52144c6f-84cd-4690-8397-c3133d954415/org.slf4j_slf4j-api-2.0.7.jar\n",
      "23/11/09 19:39:56 INFO Executor: Fetching file:///Users/hims/.ivy2/jars/commons-logging_commons-logging-1.1.3.jar with timestamp 1699587595643\n",
      "23/11/09 19:39:56 INFO Utils: /Users/hims/.ivy2/jars/commons-logging_commons-logging-1.1.3.jar has been previously copied to /private/var/folders/l2/k_0hhyfd76b__51kf1m_vk_c0000gn/T/spark-c66057b8-3996-4c03-85c8-3b0413a15b9a/userFiles-52144c6f-84cd-4690-8397-c3133d954415/commons-logging_commons-logging-1.1.3.jar\n",
      "23/11/09 19:39:56 INFO Executor: Fetching file:///Users/hims/.ivy2/jars/org.apache.spark_spark-streaming-kafka-0-10_2.12-3.5.0.jar with timestamp 1699587595643\n",
      "23/11/09 19:39:56 INFO Utils: /Users/hims/.ivy2/jars/org.apache.spark_spark-streaming-kafka-0-10_2.12-3.5.0.jar has been previously copied to /private/var/folders/l2/k_0hhyfd76b__51kf1m_vk_c0000gn/T/spark-c66057b8-3996-4c03-85c8-3b0413a15b9a/userFiles-52144c6f-84cd-4690-8397-c3133d954415/org.apache.spark_spark-streaming-kafka-0-10_2.12-3.5.0.jar\n",
      "23/11/09 19:39:56 INFO Executor: Fetching spark://10.251.181.122:49346/jars/spark-token-provider-kafka-0-10_2.12-3.5.0.jar with timestamp 1699587595643\n",
      "23/11/09 19:39:56 INFO TransportClientFactory: Successfully created connection to /10.251.181.122:49346 after 19 ms (0 ms spent in bootstraps)\n",
      "23/11/09 19:39:56 INFO Utils: Fetching spark://10.251.181.122:49346/jars/spark-token-provider-kafka-0-10_2.12-3.5.0.jar to /private/var/folders/l2/k_0hhyfd76b__51kf1m_vk_c0000gn/T/spark-c66057b8-3996-4c03-85c8-3b0413a15b9a/userFiles-52144c6f-84cd-4690-8397-c3133d954415/fetchFileTemp6350194082620592212.tmp\n",
      "23/11/09 19:39:56 INFO Executor: Adding file:/private/var/folders/l2/k_0hhyfd76b__51kf1m_vk_c0000gn/T/spark-c66057b8-3996-4c03-85c8-3b0413a15b9a/userFiles-52144c6f-84cd-4690-8397-c3133d954415/spark-token-provider-kafka-0-10_2.12-3.5.0.jar to class loader default\n",
      "23/11/09 19:39:56 INFO Executor: Fetching spark://10.251.181.122:49346/jars/spark-sql-kafka-0-10_2.12-3.5.0.jar with timestamp 1699587595643\n",
      "23/11/09 19:39:56 INFO Utils: Fetching spark://10.251.181.122:49346/jars/spark-sql-kafka-0-10_2.12-3.5.0.jar to /private/var/folders/l2/k_0hhyfd76b__51kf1m_vk_c0000gn/T/spark-c66057b8-3996-4c03-85c8-3b0413a15b9a/userFiles-52144c6f-84cd-4690-8397-c3133d954415/fetchFileTemp3290238276036743230.tmp\n",
      "23/11/09 19:39:56 INFO Executor: Adding file:/private/var/folders/l2/k_0hhyfd76b__51kf1m_vk_c0000gn/T/spark-c66057b8-3996-4c03-85c8-3b0413a15b9a/userFiles-52144c6f-84cd-4690-8397-c3133d954415/spark-sql-kafka-0-10_2.12-3.5.0.jar to class loader default\n",
      "23/11/09 19:39:56 INFO Executor: Fetching spark://10.251.181.122:49346/jars/kafka-clients-3.5.0.jar with timestamp 1699587595643\n",
      "23/11/09 19:39:56 INFO Utils: Fetching spark://10.251.181.122:49346/jars/kafka-clients-3.5.0.jar to /private/var/folders/l2/k_0hhyfd76b__51kf1m_vk_c0000gn/T/spark-c66057b8-3996-4c03-85c8-3b0413a15b9a/userFiles-52144c6f-84cd-4690-8397-c3133d954415/fetchFileTemp1792758700599701826.tmp\n",
      "23/11/09 19:39:56 INFO Executor: Adding file:/private/var/folders/l2/k_0hhyfd76b__51kf1m_vk_c0000gn/T/spark-c66057b8-3996-4c03-85c8-3b0413a15b9a/userFiles-52144c6f-84cd-4690-8397-c3133d954415/kafka-clients-3.5.0.jar to class loader default\n",
      "23/11/09 19:39:56 INFO Executor: Fetching spark://10.251.181.122:49346/jars/spark-streaming-kafka-0-10_2.12-3.5.0.jar with timestamp 1699587595643\n",
      "23/11/09 19:39:56 INFO Utils: Fetching spark://10.251.181.122:49346/jars/spark-streaming-kafka-0-10_2.12-3.5.0.jar to /private/var/folders/l2/k_0hhyfd76b__51kf1m_vk_c0000gn/T/spark-c66057b8-3996-4c03-85c8-3b0413a15b9a/userFiles-52144c6f-84cd-4690-8397-c3133d954415/fetchFileTemp7701578429671592853.tmp\n",
      "23/11/09 19:39:56 INFO Executor: Adding file:/private/var/folders/l2/k_0hhyfd76b__51kf1m_vk_c0000gn/T/spark-c66057b8-3996-4c03-85c8-3b0413a15b9a/userFiles-52144c6f-84cd-4690-8397-c3133d954415/spark-streaming-kafka-0-10_2.12-3.5.0.jar to class loader default\n",
      "23/11/09 19:39:56 INFO Utils: Successfully started service 'org.apache.spark.network.netty.NettyBlockTransferService' on port 49349.\n",
      "23/11/09 19:39:56 INFO NettyBlockTransferService: Server created on 10.251.181.122:49349\n",
      "23/11/09 19:39:56 INFO BlockManager: Using org.apache.spark.storage.RandomBlockReplicationPolicy for block replication policy\n",
      "23/11/09 19:39:56 INFO BlockManagerMaster: Registering BlockManager BlockManagerId(driver, 10.251.181.122, 49349, None)\n",
      "23/11/09 19:39:56 INFO BlockManagerMasterEndpoint: Registering block manager 10.251.181.122:49349 with 366.3 MiB RAM, BlockManagerId(driver, 10.251.181.122, 49349, None)\n",
      "23/11/09 19:39:56 INFO BlockManagerMaster: Registered BlockManager BlockManagerId(driver, 10.251.181.122, 49349, None)\n",
      "23/11/09 19:39:56 INFO BlockManager: Initialized BlockManager: BlockManagerId(driver, 10.251.181.122, 49349, None)\n"
     ]
    }
   ],
   "source": [
    "os.environ['PYSPARK_SUBMIT_ARGS'] = \",\".join([\n",
    "    '--packages org.apache.spark:spark-streaming-kafka-0-10_2.12:3.5.0',\n",
    "    'org.apache.spark:spark-sql-kafka-0-10_2.12:3.5.0 pyspark-shell'])\n",
    "\n",
    "if 'spark' in globals():\n",
    "    spark.stop()\n",
    "else:\n",
    "    print(\"spark is not up yet\")\n",
    "\n",
    "spark = (\n",
    "    SparkSession\n",
    "    .builder\n",
    "    .appName(\"Read Kafka\")\n",
    "    .config('spark.sql.shuffle.partitions', 4)\n",
    "    .config('sspark.default.parallelism', 4)\n",
    "    .config('spark.jars.packages', ','.join([\n",
    "        'org.apache.spark:spark-sql-kafka-0-10_2.12:3.5.0',\n",
    "        'org.apache.spark:spark-streaming-kafka-0-10_2.12:3.5.0']))\n",
    "    .config('spark.jars', ','.join([\n",
    "        '/opt/anaconda3/lib/python3.9/site-packages/pyspark/jars/spark-sql-kafka-0-10_2.12-3.5.0.jar',\n",
    "        '/opt/anaconda3/lib/python3.9/site-packages/pyspark/jars/spark-streaming-kafka-0-10_2.12-3.5.0.jar',\n",
    "        '/opt/anaconda3/lib/python3.9/site-packages/pyspark/jars/kafka-clients-3.5.0.jar',\n",
    "        '/opt/anaconda3/lib/python3.9/site-packages/pyspark/jars/spark-token-provider-kafka-0-10_2.12-3.5.0.jar',\n",
    "        '/opt/anaconda3/lib/python3.9/site-packages/pyspark/jars/commons-pool2-2.8.0.jar']))\n",
    "    .getOrCreate()\n",
    ")\n",
    "spark.sparkContext.setLogLevel(\"ERROR\")\n",
    "spark\n"
   ]
  },
  {
   "cell_type": "code",
   "execution_count": 1,
   "outputs": [],
   "source": [
    "from pyspark.sql.functions import from_json, col\n",
    "\n",
    "def read_from_topic(topic):\n",
    "    print(f\"reading data from the topic {topic}\")\n",
    "    df = (\n",
    "        spark\n",
    "        .readStream\n",
    "        .format(\"kafka\")\n",
    "        .option(\"kafka.bootstrap.servers\", \"localhost:9092\")\n",
    "        .option(\"startingOffsets\", \"earliest\")\n",
    "        .option(\"subscribe\", topic)\n",
    "        .load()\n",
    "    )\n",
    "    print(f\"is spark is reading the streams from kafka = {df.isStreaming}\")\n",
    "    df.printSchema()\n",
    "    return df.withColumn(\"value\", col(\"value\").cast(\"int\"))"
   ],
   "metadata": {
    "collapsed": false,
    "ExecuteTime": {
     "end_time": "2023-11-10T06:20:42.524107Z",
     "start_time": "2023-11-10T06:20:42.479331Z"
    }
   },
   "id": "29727341e52e1598"
  },
  {
   "cell_type": "code",
   "execution_count": null,
   "outputs": [],
   "source": [
    "def read_reviews():\n",
    "    stream_df = read_from_topic(\"reviews\")\n",
    "    schema = StructType([\n",
    "        StructField(\"business_id\", StringType(), True),\n",
    "        StructField(\"cool\", LongType(), True),\n",
    "        StructField(\"date\", StringType(), True),\n",
    "        StructField(\"funny\", LongType(), True),\n",
    "        StructField(\"review_id\", StringType(), True),\n",
    "        StructField(\"stars\", DoubleType(), True),\n",
    "        StructField(\"text\", StringType(), True),\n",
    "        StructField(\"useful\", LongType(), True),\n",
    "        StructField(\"user_id\", StringType(), True),\n",
    "    ])\n",
    "    df_result = stream_df.select(from_json(col(\"json_string\"), schema).alias(\"data\"))\n",
    "    return df_result"
   ],
   "metadata": {
    "collapsed": false
   },
   "id": "eb621d4b006d8867"
  },
  {
   "cell_type": "code",
   "execution_count": 2,
   "outputs": [],
   "source": [
    "def read_checkins():\n",
    "    stream_df = read_from_topic(\"checkins\")\n",
    "    schema = StructType([\n",
    "        StructField(\"business_id\", StringType(), True),\n",
    "        StructField(\"date\", StringType(), True),\n",
    "    ])\n",
    "    df_result = stream_df.select(from_json(col(\"json_string\"), schema).alias(\"data\"))\n",
    "    return df_result\n"
   ],
   "metadata": {
    "collapsed": false,
    "ExecuteTime": {
     "end_time": "2023-11-10T06:23:29.228566Z",
     "start_time": "2023-11-10T06:23:29.219812Z"
    }
   },
   "id": "4a3d655855316436"
  },
  {
   "cell_type": "code",
   "execution_count": null,
   "outputs": [],
   "source": [
    "def read_tips():\n",
    "    stream_df = read_from_topic(\"tips\")\n",
    "    schema = StructType([\n",
    "        StructField(\"business_id\", StringType(), True),\n",
    "        StructField(\"compliment_count\", LongType(), True),\n",
    "        StructField(\"date\", StringType(), True),\n",
    "        StructField(\"text\", StringType(), True),\n",
    "        StructField(\"user_id\", StringType(), True),\n",
    "    ])\n",
    "    df_result = stream_df.select(from_json(col(\"json_string\"), schema).alias(\"data\"))\n",
    "    return df_result"
   ],
   "metadata": {
    "collapsed": false
   },
   "id": "5bbe8188761dbc40"
  },
  {
   "cell_type": "code",
   "execution_count": null,
   "outputs": [],
   "source": [],
   "metadata": {
    "collapsed": false
   },
   "id": "7eaa460103102bb7"
  }
 ],
 "metadata": {
  "kernelspec": {
   "display_name": "Python 3",
   "language": "python",
   "name": "python3"
  },
  "language_info": {
   "codemirror_mode": {
    "name": "ipython",
    "version": 2
   },
   "file_extension": ".py",
   "mimetype": "text/x-python",
   "name": "python",
   "nbconvert_exporter": "python",
   "pygments_lexer": "ipython2",
   "version": "2.7.6"
  }
 },
 "nbformat": 4,
 "nbformat_minor": 5
}
