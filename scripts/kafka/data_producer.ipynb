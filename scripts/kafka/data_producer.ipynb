{
 "cells": [
  {
   "cell_type": "code",
   "execution_count": 1,
   "outputs": [],
   "source": [
    "import datetime\n",
    "from kafka import KafkaProducer"
   ],
   "metadata": {
    "collapsed": false,
    "ExecuteTime": {
     "end_time": "2023-11-10T03:34:57.259795Z",
     "start_time": "2023-11-10T03:34:57.225220Z"
    }
   },
   "id": "c3a2da2f81268416"
  },
  {
   "cell_type": "code",
   "execution_count": 2,
   "outputs": [],
   "source": [
    "producer = KafkaProducer(bootstrap_servers='localhost:9092')"
   ],
   "metadata": {
    "collapsed": false,
    "ExecuteTime": {
     "end_time": "2023-11-10T03:34:57.396596Z",
     "start_time": "2023-11-10T03:34:57.262347Z"
    }
   },
   "id": "b1072ef4a1e275de"
  },
  {
   "cell_type": "code",
   "execution_count": 3,
   "outputs": [],
   "source": [
    "\n",
    "def publish(topic, message):\n",
    "    print(f\"{datetime.datetime.now()} publishing to {topic = }, {message = }\")\n",
    "    producer.send(topic, bytes(message, encoding='utf-8'))\n"
   ],
   "metadata": {
    "collapsed": false,
    "ExecuteTime": {
     "end_time": "2023-11-10T03:35:08.414052Z",
     "start_time": "2023-11-10T03:35:08.410772Z"
    }
   },
   "id": "1cd9d5840b5c9eba"
  },
  {
   "cell_type": "code",
   "execution_count": 4,
   "outputs": [],
   "source": [
    "def publish_review():\n",
    "    print(\"Publishing review\")\n",
    "    topic = \"review\"\n",
    "    message = \"\"\n",
    "    publish(topic, message)"
   ],
   "metadata": {
    "collapsed": false,
    "ExecuteTime": {
     "end_time": "2023-11-10T03:35:09.064307Z",
     "start_time": "2023-11-10T03:35:09.060795Z"
    }
   },
   "id": "55d480e82b6c9a2f"
  },
  {
   "cell_type": "code",
   "execution_count": 5,
   "outputs": [],
   "source": [
    "def publish_tip():\n",
    "    print(\"Publishing review\")\n",
    "    topic = \"tip\"\n",
    "    message = \"\"\n",
    "    publish(topic, message)"
   ],
   "metadata": {
    "collapsed": false,
    "ExecuteTime": {
     "end_time": "2023-11-10T03:35:09.757977Z",
     "start_time": "2023-11-10T03:35:09.754627Z"
    }
   },
   "id": "76cf48d450aafe73"
  },
  {
   "cell_type": "code",
   "execution_count": 6,
   "outputs": [],
   "source": [
    "def publish_checkin():\n",
    "    print(\"Publishing checkin\")\n",
    "    topic = \"checkin\"\n",
    "    message = \"\"\n",
    "    publish(topic, message)\n",
    "    "
   ],
   "metadata": {
    "collapsed": false,
    "ExecuteTime": {
     "end_time": "2023-11-10T03:35:10.248524Z",
     "start_time": "2023-11-10T03:35:10.244513Z"
    }
   },
   "id": "2ea543807c1dd19d"
  },
  {
   "cell_type": "code",
   "execution_count": 7,
   "outputs": [
    {
     "name": "stdout",
     "output_type": "stream",
     "text": [
      "Publishing checkin\n",
      "2023-11-09 19:35:11.830401 publishing to topic = 'chekin', message = ''\n",
      "Publishing review\n",
      "2023-11-09 19:35:12.031198 publishing to topic = 'tip', message = ''\n",
      "Publishing review\n",
      "2023-11-09 19:35:12.253146 publishing to topic = 'review', message = ''\n",
      "Publishing checkin\n",
      "2023-11-09 19:35:12.500039 publishing to topic = 'chekin', message = ''\n",
      "Publishing review\n",
      "2023-11-09 19:35:12.500144 publishing to topic = 'tip', message = ''\n",
      "Publishing review\n",
      "2023-11-09 19:35:12.500207 publishing to topic = 'review', message = ''\n",
      "Publishing checkin\n",
      "2023-11-09 19:35:12.500243 publishing to topic = 'chekin', message = ''\n",
      "Publishing review\n",
      "2023-11-09 19:35:12.500272 publishing to topic = 'tip', message = ''\n",
      "Publishing review\n",
      "2023-11-09 19:35:12.500299 publishing to topic = 'review', message = ''\n",
      "Publishing checkin\n",
      "2023-11-09 19:35:12.500327 publishing to topic = 'chekin', message = ''\n",
      "Publishing review\n",
      "2023-11-09 19:35:12.500354 publishing to topic = 'tip', message = ''\n",
      "Publishing review\n",
      "2023-11-09 19:35:12.500383 publishing to topic = 'review', message = ''\n",
      "Publishing checkin\n",
      "2023-11-09 19:35:12.500409 publishing to topic = 'chekin', message = ''\n",
      "Publishing review\n",
      "2023-11-09 19:35:12.500436 publishing to topic = 'tip', message = ''\n",
      "Publishing review\n",
      "2023-11-09 19:35:12.500462 publishing to topic = 'review', message = ''\n",
      "Publishing checkin\n",
      "2023-11-09 19:35:12.500488 publishing to topic = 'chekin', message = ''\n",
      "Publishing review\n",
      "2023-11-09 19:35:12.500515 publishing to topic = 'tip', message = ''\n",
      "Publishing review\n",
      "2023-11-09 19:35:12.500541 publishing to topic = 'review', message = ''\n",
      "Publishing checkin\n",
      "2023-11-09 19:35:12.500567 publishing to topic = 'chekin', message = ''\n",
      "Publishing review\n",
      "2023-11-09 19:35:12.500594 publishing to topic = 'tip', message = ''\n",
      "Publishing review\n",
      "2023-11-09 19:35:12.500620 publishing to topic = 'review', message = ''\n",
      "Publishing checkin\n",
      "2023-11-09 19:35:12.500646 publishing to topic = 'chekin', message = ''\n",
      "Publishing review\n",
      "2023-11-09 19:35:12.500674 publishing to topic = 'tip', message = ''\n",
      "Publishing review\n",
      "2023-11-09 19:35:12.500701 publishing to topic = 'review', message = ''\n",
      "Publishing checkin\n",
      "2023-11-09 19:35:12.500727 publishing to topic = 'chekin', message = ''\n",
      "Publishing review\n",
      "2023-11-09 19:35:12.500753 publishing to topic = 'tip', message = ''\n",
      "Publishing review\n",
      "2023-11-09 19:35:12.500779 publishing to topic = 'review', message = ''\n",
      "Publishing checkin\n",
      "2023-11-09 19:35:12.500805 publishing to topic = 'chekin', message = ''\n",
      "Publishing review\n",
      "2023-11-09 19:35:12.500830 publishing to topic = 'tip', message = ''\n",
      "Publishing review\n",
      "2023-11-09 19:35:12.500856 publishing to topic = 'review', message = ''\n"
     ]
    }
   ],
   "source": [
    "\n",
    "for i in range(10):\n",
    "    publish_checkin()\n",
    "    publish_tip()\n",
    "    publish_review()"
   ],
   "metadata": {
    "collapsed": false,
    "ExecuteTime": {
     "end_time": "2023-11-10T03:35:12.513509Z",
     "start_time": "2023-11-10T03:35:11.833865Z"
    }
   },
   "id": "9a68a99adc437acd"
  },
  {
   "cell_type": "code",
   "execution_count": null,
   "outputs": [],
   "source": [],
   "metadata": {
    "collapsed": false
   },
   "id": "8309e04c73b26b05"
  }
 ],
 "metadata": {
  "kernelspec": {
   "display_name": "Python 3",
   "language": "python",
   "name": "python3"
  },
  "language_info": {
   "codemirror_mode": {
    "name": "ipython",
    "version": 2
   },
   "file_extension": ".py",
   "mimetype": "text/x-python",
   "name": "python",
   "nbconvert_exporter": "python",
   "pygments_lexer": "ipython2",
   "version": "2.7.6"
  }
 },
 "nbformat": 4,
 "nbformat_minor": 5
}
